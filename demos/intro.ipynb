{
 "cells": [
  {
   "cell_type": "markdown",
   "metadata": {},
   "source": [
    "# Duat demo"
   ]
  },
  {
   "cell_type": "code",
   "execution_count": 2,
   "metadata": {},
   "outputs": [],
   "source": [
    "import os\n",
    "import numpy as np\n",
    "import matplotlib.pyplot as plt"
   ]
  },
  {
   "cell_type": "code",
   "execution_count": 3,
   "metadata": {
    "collapsed": true
   },
   "outputs": [],
   "source": [
    "from duat.osiris import config, plot, run"
   ]
  },
  {
   "cell_type": "markdown",
   "metadata": {},
   "source": [
    "If a warning on not found executables was raised, add a cell setting the path to the folder with the executables:\n",
    "run.set_osiris_path(path.join(\"path\", \"to\", \"osiris\", \"folder\"))"
   ]
  },
  {
   "cell_type": "markdown",
   "metadata": {},
   "source": [
    "## Creating a simulation"
   ]
  },
  {
   "cell_type": "code",
   "execution_count": 4,
   "metadata": {
    "collapsed": true
   },
   "outputs": [],
   "source": [
    "# Create a config file with the defaults and change some parameters\n",
    "sim=config.ConfigFile(1) # Argument -> dimension\n",
    "# Parameters can be edited using the python item access notation\n",
    "sim[\"time\"][\"tmax\"]=30.0\n",
    "sim[\"species_list\"][1][\"species\"][\"num_par_x\"]=[200]\n",
    "# Beware the python indexes starting at zero. \"1\" is the second particle species\n",
    "sim[\"species_list\"][0][\"diag_species\"].set_pars(ndump_fac=1, reports=\"ene\")\n",
    "\n",
    "ene_bins=np.arange(0,0.5,0.02)\n",
    "sim[\"species_list\"][1][\"diag_species\"].set_pars(ndump_fac=1, ndump_fac_pha=1, pha_ene_bin=\"x1_|charge|\",\n",
    "                                    ene_bins=ene_bins, n_ene_bins=len(ene_bins))"
   ]
  },
  {
   "cell_type": "code",
   "execution_count": 5,
   "metadata": {
    "collapsed": true
   },
   "outputs": [],
   "source": [
    "# Even if a section was not created, accesing it with the index notation will create it\n",
    "sim[\"diag_emf\"][\"reports\"]=[\"e1\",\"e2\",\"e3\"]\n",
    "sim[\"diag_emf\"][\"ndump_fac\"]=5"
   ]
  },
  {
   "cell_type": "code",
   "execution_count": 6,
   "metadata": {},
   "outputs": [
    {
     "name": "stdout",
     "output_type": "stream",
     "text": [
      "node_conf\n",
      "{\n",
      "  node_number(1:1) = 1,\n",
      "  if_periodic(1:1) = .true.,\n",
      "}\n",
      "\n",
      "grid\n",
      "{\n",
      "  coordinates = \"cartesian\",\n",
      "  nx_p(1:1) = 1024,\n",
      "}\n",
      "\n",
      "time_step\n",
      "{\n",
      "  dt = 0.07,\n",
      "  ndump = 10,\n",
      "}\n",
      "\n",
      "space\n",
      "{\n",
      "  xmin(1:1) = 0,\n",
      "  xmax(1:1) = 102.4,\n",
      "  if_move(1:1) = .false.,\n",
      "}\n",
      "\n",
      "time\n",
      "{\n",
      "  tmin = 0,\n",
      "  tmax = 30,\n",
      "}\n",
      "\n",
      "emf_bound\n",
      "{\n",
      "  type(1:2, 1) = 0, 0,\n",
      "  \n",
      "}\n",
      "\n",
      "diag_emf\n",
      "{\n",
      "  reports(1:3) = \"e1\", \"e2\", \"e3\",\n",
      "  ndump_fac = 5,\n",
      "}\n",
      "\n",
      "particles\n",
      "{\n",
      "  num_species = 2,\n",
      "}\n",
      "\n",
      "!---Species configuration\n",
      "!---Configuration for species 1\n",
      "species\n",
      "{\n",
      "  num_par_max = 2048,\n",
      "  rqm = -1,\n",
      "  num_par_x(1:1) = 2,\n",
      "  vth(1:3) = 0.1, 0.1, 0.1,\n",
      "  vfl(1:3) = 0, 0, 0.6,\n",
      "  den_min = 1d-05,\n",
      "  num_dgam = 0,\n",
      "  dgam = 0,\n",
      "}\n",
      "\n",
      "profile\n",
      "{\n",
      "  fx(1:6, 1) = 1, 1, 1, 1, 1, 1,\n",
      "  \n",
      "  x(1:6, 1) = 0, 0.9999, 1, 2, 2.001, 10000,\n",
      "  \n",
      "}\n",
      "\n",
      "spe_bound\n",
      "{\n",
      "  type(1:2, 1) = 0, 0,\n",
      "  \n",
      "}\n",
      "\n",
      "diag_species\n",
      "{\n",
      "  ndump_fac = 1,\n",
      "  reports = \"ene\",\n",
      "}\n",
      "\n",
      "\n",
      "!---Configuration for species 2\n",
      "species\n",
      "{\n",
      "  num_par_max = 2048,\n",
      "  rqm = -1,\n",
      "  num_par_x(1:1) = 200,\n",
      "  vth(1:3) = 0.1, 0.1, 0.1,\n",
      "  vfl(1:3) = 0, 0, 0.6,\n",
      "  den_min = 1d-05,\n",
      "  num_dgam = 0,\n",
      "  dgam = 0,\n",
      "}\n",
      "\n",
      "profile\n",
      "{\n",
      "  fx(1:6, 1) = 1, 1, 1, 1, 1, 1,\n",
      "  \n",
      "  x(1:6, 1) = 0, 0.9999, 1, 2, 2.001, 10000,\n",
      "  \n",
      "}\n",
      "\n",
      "spe_bound\n",
      "{\n",
      "  type(1:2, 1) = 0, 0,\n",
      "  \n",
      "}\n",
      "\n",
      "diag_species\n",
      "{\n",
      "  ndump_fac = 1,\n",
      "  ndump_fac_pha = 1,\n",
      "  pha_ene_bin = \"x1_|charge|\",\n",
      "  ene_bins(1:25) = 0, 0.02, 0.04, 0.06, 0.08, 0.1, 0.12, 0.14, 0.16, 0.18, 0.2, 0.22, 0.24, 0.26, 0.28, 0.3, 0.32, 0.34, 0.36, 0.38, 0.4, 0.42, 0.44, 0.46, 0.48,\n",
      "  n_ene_bins = 25,\n",
      "}\n",
      "\n",
      "\n",
      "\n",
      "\n"
     ]
    }
   ],
   "source": [
    "# Check the generated code\n",
    "print(sim)"
   ]
  },
  {
   "cell_type": "markdown",
   "metadata": {},
   "source": [
    "## Running a simulation"
   ]
  },
  {
   "cell_type": "code",
   "execution_count": 7,
   "metadata": {},
   "outputs": [
    {
     "name": "stdout",
     "output_type": "stream",
     "text": [
      "/home/guillehg/osiris-runs\n"
     ]
    }
   ],
   "source": [
    "# A directory for the runs\n",
    "run_dir = os.path.join(os.path.expanduser(\"~\"), \"osiris-runs\")\n",
    "print(run_dir)"
   ]
  },
  {
   "cell_type": "code",
   "execution_count": 8,
   "metadata": {},
   "outputs": [
    {
     "name": "stdout",
     "output_type": "stream",
     "text": [
      "Expected time to end: 0.10 s\n",
      "Expected time to end: 3.45 s\n"
     ]
    },
    {
     "name": "stderr",
     "output_type": "stream",
     "text": [
      "Error detected while launching /home/guillehg/osiris-runs/parxIAMERROR.\n",
      "Check out.txt there for more information or re-run in console.\n"
     ]
    },
    {
     "name": "stdout",
     "output_type": "stream",
     "text": [
      "Expected time to end: 0.00 s\n"
     ]
    }
   ],
   "source": [
    "# Sequentially run simulations varying a parameter. Also check for errors, but note they are not always detected\n",
    "run_list=[]\n",
    "for i in [2, 20, \"IAMERROR\"]:\n",
    "    sim[\"species_list\"][1][\"species\"][\"num_par_x\"]=[i]\n",
    "    r = run.run_config(sim, run_dir+\"/parx\"+str(i), prefix=\"\", blocking=False, clean_dir=True)\n",
    "    print(\"Expected time to end: %.2f s\"% r.estimated_time())\n",
    "    run_list.append(r)\n",
    "    "
   ]
  },
  {
   "cell_type": "code",
   "execution_count": 9,
   "metadata": {},
   "outputs": [
    {
     "name": "stdout",
     "output_type": "stream",
     "text": [
      "Size in disk of a run: 3.38 MiB\n"
     ]
    }
   ],
   "source": [
    "# Other methods are available in the Run object. See the documentation for more information.\n",
    "print(\"Size in disk of a run: %.2f MiB\" % (run_list[1].get_size()/1024/1024))"
   ]
  },
  {
   "cell_type": "markdown",
   "metadata": {},
   "source": [
    "## Plotting the results"
   ]
  },
  {
   "cell_type": "code",
   "execution_count": 10,
   "metadata": {
    "collapsed": true
   },
   "outputs": [],
   "source": [
    "# Choose one the results to demonstrate plots \n",
    "ex_run = run_dir + \"/parx2\""
   ]
  },
  {
   "cell_type": "code",
   "execution_count": 11,
   "metadata": {},
   "outputs": [
    {
     "name": "stdout",
     "output_type": "stream",
     "text": [
      "Generating file(s) for species 2 x_1 (|charge|)\n",
      "- Dimensions: ([64], 26, 43)\n",
      "- Generating: /home/guillehg/osiris-runs/parx2/plot/species 2 x_1 (|charge|)_0.mp4\n",
      "- Generating: /home/guillehg/osiris-runs/parx2/plot/species 2 x_1 (|charge|)_13.mp4\n",
      "- Generating: /home/guillehg/osiris-runs/parx2/plot/species 2 x_1 (|charge|)_25.mp4\n",
      "Generating file(s) for E_2\n",
      "- Dimensions: ([1024], 1, 9)\n",
      "- Generating: /home/guillehg/osiris-runs/parx2/plot/E_2.mp4\n",
      "Generating file(s) for E_1\n",
      "- Dimensions: ([1024], 1, 9)\n",
      "- Generating: /home/guillehg/osiris-runs/parx2/plot/E_1.mp4\n",
      "Generating file(s) for E_3\n",
      "- Dimensions: ([1024], 1, 9)\n",
      "- Generating: /home/guillehg/osiris-runs/parx2/plot/E_3.mp4\n",
      "Generating file(s) for Kinetic Energy\n",
      "- Dimensions: ([1024], 1, 43)\n",
      "- Generating: /home/guillehg/osiris-runs/parx2/plot/Kinetic Energy.mp4\n"
     ]
    }
   ],
   "source": [
    "# Automatic generation of 1d plots of generated data\n",
    "with plt.style.context(['ggplot']): # A context can be used to change the plot style\n",
    "    plot.auto_process(ex_run, file_format=\"mp4\", verbose=True, kwargs_1d=dict(dpi=300))"
   ]
  },
  {
   "cell_type": "code",
   "execution_count": 12,
   "metadata": {},
   "outputs": [
    {
     "name": "stdout",
     "output_type": "stream",
     "text": [
      "([64], 26, 43)\n"
     ]
    }
   ],
   "source": [
    "# For customized generation of plots, use the Diagnostic class\n",
    "d = plot.Diagnostic(os.path.join(ex_run, \"MS/PHA/x1_|charge|_bin_ene/species_2\"))\n",
    "print(d.shape)\n",
    "# This displays the length in each axis (as a list), the number of datasets and the number of timestamps"
   ]
  },
  {
   "cell_type": "code",
   "execution_count": 13,
   "metadata": {
    "collapsed": true
   },
   "outputs": [],
   "source": [
    "# Select position 5 in the first axis (which is x1).\n",
    "# The remaining degree of freedom is the dataset, here energy binning\n",
    "d.time_1d_animation(axes_selector=(5,), output_path=os.path.join(ex_run,\"plot\",\"test.mp4\"))"
   ]
  },
  {
   "cell_type": "code",
   "execution_count": 14,
   "metadata": {},
   "outputs": [
    {
     "data": {
      "image/png": "[encoded data removed]",
      "text/plain": [
       "<matplotlib.figure.Figure at 0x7f8b8a6f8a90>"
      ]
     },
     "metadata": {},
     "output_type": "display_data"
    }
   ],
   "source": [
    "# Do the same as a color map\n",
    "d.time_1d_colormap(axes_selector=(5,), cmap=\"rainbow\")"
   ]
  },
  {
   "cell_type": "code",
   "execution_count": 15,
   "metadata": {},
   "outputs": [
    {
     "data": {
      "image/png": "[encoded data removed]",
      "text/plain": [
       "<matplotlib.figure.Figure at 0x7f8b8af50550>"
      ]
     },
     "metadata": {},
     "output_type": "display_data"
    }
   ],
   "source": [
    "# Now fix a dataset (energy) instead\n",
    "d.time_1d_colormap(dataset_selector=5, cmap=\"rainbow\")"
   ]
  },
  {
   "cell_type": "code",
   "execution_count": 16,
   "metadata": {},
   "outputs": [
    {
     "data": {
      "text/plain": [
       "[Diagnostic<species 2 x_1 (|charge|) ([64], 26, 43)>,\n",
       " Diagnostic<E_2 ([1024], 1, 9)>,\n",
       " Diagnostic<E_1 ([1024], 1, 9)>,\n",
       " Diagnostic<E_3 ([1024], 1, 9)>,\n",
       " Diagnostic<Kinetic Energy ([1024], 1, 43)>]"
      ]
     },
     "execution_count": 16,
     "metadata": {},
     "output_type": "execute_result"
    }
   ],
   "source": [
    "# You can use the get_diagnostic_list function to automatically search for diagnostics:\n",
    "plot.get_diagnostic_list(ex_run)"
   ]
  },
  {
   "cell_type": "code",
   "execution_count": 17,
   "metadata": {},
   "outputs": [
    {
     "data": {
      "image/png": "[encoded data removed]",
      "text/plain": [
       "<matplotlib.figure.Figure at 0x7f8b8a838550>"
      ]
     },
     "metadata": {},
     "output_type": "display_data"
    }
   ],
   "source": [
    "plot.get_diagnostic_list(ex_run)[1].time_1d_colormap()"
   ]
  },
  {
   "cell_type": "code",
   "execution_count": 18,
   "metadata": {
    "collapsed": true
   },
   "outputs": [],
   "source": [
    "# For manual manipulation use the get_generator method\n",
    "gen = plot.get_diagnostic_list(ex_run)[1].get_generator()\n",
    "# This returns a generator that provides data when iterated"
   ]
  },
  {
   "cell_type": "code",
   "execution_count": 19,
   "metadata": {},
   "outputs": [
    {
     "name": "stdout",
     "output_type": "stream",
     "text": [
      "[ 0.  0.  0. ...,  0.  0.  0.]\n",
      "[-0.00322306 -0.00522975 -0.00561492 ..., -0.00099357 -0.00189998\n",
      " -0.00072448]\n",
      "[-0.01148757 -0.00424596  0.00866065 ..., -0.00131209 -0.00704931\n",
      " -0.0147919 ]\n",
      "[-0.00945068  0.00464916 -0.00139107 ..., -0.01322388 -0.01300046\n",
      " -0.0036142 ]\n",
      "[-0.01387668 -0.01165098 -0.01918631 ..., -0.00947732 -0.01107293\n",
      " -0.01316959]\n",
      "[-0.02509208 -0.02770903 -0.03530693 ..., -0.02137129 -0.02424224\n",
      " -0.03385735]\n",
      "[-0.00306129 -0.01257404 -0.00315387 ..., -0.01539171 -0.01293476\n",
      " -0.01297446]\n",
      "[ 0.012858    0.00960065  0.00320919 ...,  0.00521354  0.0063723\n",
      "  0.00569589]\n",
      "[ 0.03408493  0.02542153  0.03666947 ...,  0.02179871  0.02756875\n",
      "  0.01687863]\n"
     ]
    }
   ],
   "source": [
    "for snapshot in gen:\n",
    "    print(snapshot)"
   ]
  }
 ],
 "metadata": {
  "kernelspec": {
   "display_name": "Python 3",
   "language": "python",
   "name": "python3"
  },
  "language_info": {
   "codemirror_mode": {
    "name": "ipython",
    "version": 3
   },
   "file_extension": ".py",
   "mimetype": "text/x-python",
   "name": "python",
   "nbconvert_exporter": "python",
   "pygments_lexer": "ipython3",
   "version": "3.6.0"
  }
 },
 "nbformat": 4,
 "nbformat_minor": 1
}
