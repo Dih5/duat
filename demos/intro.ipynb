{
 "cells": [
  {
   "cell_type": "code",
   "execution_count": 1,
   "metadata": {
    "collapsed": false
   },
   "outputs": [
    {
     "name": "stderr",
     "output_type": "stream",
     "text": [
      "/usr/lib/python3.6/site-packages/matplotlib/__init__.py:878: UserWarning: axes.color_cycle is deprecated and replaced with axes.prop_cycle; please use the latter.\n",
      "  warnings.warn(self.msg_depr % (key, alt_key))\n"
     ]
    }
   ],
   "source": [
    "import os\n",
    "import numpy as np\n",
    "import matplotlib.pyplot as plt"
   ]
  },
  {
   "cell_type": "code",
   "execution_count": 2,
   "metadata": {
    "collapsed": false
   },
   "outputs": [],
   "source": [
    "from duat.osiris import config, plot, run"
   ]
  },
  {
   "cell_type": "markdown",
   "metadata": {},
   "source": [
    "If a warning on not found executables was raised, add a cell setting the path to the folder with the executables:\n",
    "run.set_osiris_path(path.join(\"path\", \"to\", \"osiris\", \"folder\"))"
   ]
  },
  {
   "cell_type": "code",
   "execution_count": 3,
   "metadata": {
    "collapsed": false
   },
   "outputs": [],
   "source": [
    "# Create a config file with the defaults and change some parameters\n",
    "sim=config.ConfigFile(1) # Argument -> dimension\n",
    "# Parameters can be edited using the python item access notation\n",
    "sim[\"time\"][\"tmax\"]=30.0\n",
    "sim[\"species_list\"][1][\"species\"][\"num_par_x\"]=[200]\n",
    "# Beware the python indexes starting at zero. \"1\" is the second particle species\n",
    "sim[\"species_list\"][0][\"diag_species\"].set_pars(ndump_fac=1, reports=\"ene\")\n",
    "\n",
    "ene_bins=np.arange(0,0.5,0.02)\n",
    "sim[\"species_list\"][1][\"diag_species\"].set_pars(ndump_fac=1, ndump_fac_pha=1, pha_ene_bin=\"x1_|charge|\",\n",
    "                                    ene_bins=ene_bins, n_ene_bins=len(ene_bins))"
   ]
  },
  {
   "cell_type": "code",
   "execution_count": 4,
   "metadata": {
    "collapsed": false
   },
   "outputs": [],
   "source": [
    "#Even if a section was not created, accesing it with the index notation will create it\n",
    "sim[\"diag_emf\"][\"reports\"]=[\"e1\",\"e2\",\"e3\"]\n",
    "sim[\"diag_emf\"][\"ndump_fac\"]=5"
   ]
  },
  {
   "cell_type": "code",
   "execution_count": 5,
   "metadata": {
    "collapsed": false
   },
   "outputs": [
    {
     "name": "stdout",
     "output_type": "stream",
     "text": [
      "node_conf\n",
      "{\n",
      "  node_number(1:1) = 1,\n",
      "  if_periodic(1:1) = .true.,\n",
      "}\n",
      "\n",
      "grid\n",
      "{\n",
      "  coordinates = \"cartesian\",\n",
      "  nx_p(1:1) = 1024,\n",
      "}\n",
      "\n",
      "time_step\n",
      "{\n",
      "  dt = 0.070000,\n",
      "  ndump = 10,\n",
      "}\n",
      "\n",
      "space\n",
      "{\n",
      "  xmin(1:1) = 0.000000,\n",
      "  xmax(1:1) = 102.400000,\n",
      "  if_move(1:1) = .false.,\n",
      "}\n",
      "\n",
      "time\n",
      "{\n",
      "  tmin = 0.000000,\n",
      "  tmax = 30.000000,\n",
      "}\n",
      "\n",
      "emf_bound\n",
      "{\n",
      "  type(1:2, 1) = 0, 0,\n",
      "  \n",
      "}\n",
      "\n",
      "diag_emf\n",
      "{\n",
      "  reports(1:3) = \"e1\", \"e2\", \"e3\",\n",
      "  ndump_fac = 5,\n",
      "}\n",
      "\n",
      "particles\n",
      "{\n",
      "  num_species = 2,\n",
      "}\n",
      "\n",
      "!---Species configuration\n",
      "!---Configuration for species 1\n",
      "species\n",
      "{\n",
      "  num_par_max = 2048,\n",
      "  rqm = -1.000000,\n",
      "  num_par_x(1:1) = 2,\n",
      "  vth(1:3) = 0.100000, 0.100000, 0.100000,\n",
      "  vfl(1:3) = 0.000000, 0.000000, 0.600000,\n",
      "  den_min = 0.000010,\n",
      "  num_dgam = 0,\n",
      "  dgam = 0,\n",
      "}\n",
      "\n",
      "profile\n",
      "{\n",
      "  fx(1:6, 1) = 1.000000, 1.000000, 1.000000, 1.000000, 1.000000, 1.000000,\n",
      "  \n",
      "  x(1:6, 1) = 0.000000, 0.999900, 1.000000, 2.000000, 2.001000, 10000.000000,\n",
      "  \n",
      "}\n",
      "\n",
      "spe_bound\n",
      "{\n",
      "  type(1:2, 1) = 0, 0,\n",
      "  \n",
      "}\n",
      "\n",
      "diag_species\n",
      "{\n",
      "  ndump_fac = 1,\n",
      "  reports = \"ene\",\n",
      "}\n",
      "\n",
      "\n",
      "!---Configuration for species 2\n",
      "species\n",
      "{\n",
      "  num_par_max = 2048,\n",
      "  rqm = -1.000000,\n",
      "  num_par_x(1:1) = 200,\n",
      "  vth(1:3) = 0.100000, 0.100000, 0.100000,\n",
      "  vfl(1:3) = 0.000000, 0.000000, 0.600000,\n",
      "  den_min = 0.000010,\n",
      "  num_dgam = 0,\n",
      "  dgam = 0,\n",
      "}\n",
      "\n",
      "profile\n",
      "{\n",
      "  fx(1:6, 1) = 1.000000, 1.000000, 1.000000, 1.000000, 1.000000, 1.000000,\n",
      "  \n",
      "  x(1:6, 1) = 0.000000, 0.999900, 1.000000, 2.000000, 2.001000, 10000.000000,\n",
      "  \n",
      "}\n",
      "\n",
      "spe_bound\n",
      "{\n",
      "  type(1:2, 1) = 0, 0,\n",
      "  \n",
      "}\n",
      "\n",
      "diag_species\n",
      "{\n",
      "  ndump_fac = 1,\n",
      "  ndump_fac_pha = 1,\n",
      "  pha_ene_bin = \"x1_|charge|\",\n",
      "  ene_bins(1:25) = 0.000000, 0.020000, 0.040000, 0.060000, 0.080000, 0.100000, 0.120000, 0.140000, 0.160000, 0.180000, 0.200000, 0.220000, 0.240000, 0.260000, 0.280000, 0.300000, 0.320000, 0.340000, 0.360000, 0.380000, 0.400000, 0.420000, 0.440000, 0.460000, 0.480000,\n",
      "  n_ene_bins = 25,\n",
      "}\n",
      "\n",
      "\n",
      "\n",
      "\n"
     ]
    }
   ],
   "source": [
    "# Check the generated code\n",
    "print(sim)"
   ]
  },
  {
   "cell_type": "code",
   "execution_count": 6,
   "metadata": {
    "collapsed": false
   },
   "outputs": [
    {
     "name": "stdout",
     "output_type": "stream",
     "text": [
      "/home/guillehg/osiris-run\n"
     ]
    }
   ],
   "source": [
    "# A directory for the runs\n",
    "run_dir = os.path.join(os.path.expanduser(\"~\"), \"osiris-run\")\n",
    "print(run_dir)"
   ]
  },
  {
   "cell_type": "code",
   "execution_count": 7,
   "metadata": {
    "collapsed": false
   },
   "outputs": [
    {
     "name": "stdout",
     "output_type": "stream",
     "text": [
      "True\n",
      "True\n",
      "False\n"
     ]
    },
    {
     "name": "stderr",
     "output_type": "stream",
     "text": [
      "Error detected while launching /home/guillehg/osiris-runIAMERROR.\n",
      "Check out.txt there for more information or re-run in console.\n"
     ]
    }
   ],
   "source": [
    "# Sequentially run simulations varying a parameter. Also check for errors, but note they are not always detected\n",
    "for i in [2, 20, \"IAMERROR\"]:\n",
    "    sim[\"species_list\"][1][\"species\"][\"num_par_x\"]=[i]\n",
    "    (error_detected, process,) = run.run_mono(sim, run_dir+str(i), prefix=\"\", blocking=True, clean_dir=True)\n",
    "    print(error_detected)"
   ]
  },
  {
   "cell_type": "code",
   "execution_count": 8,
   "metadata": {
    "collapsed": false
   },
   "outputs": [
    {
     "name": "stdout",
     "output_type": "stream",
     "text": [
      "Generating file(s) for /home/guillehg/osiris-run2/MS/PHA/x1_|charge|_bin_ene/species_2\n",
      "- Dimensions: (1, 26, 43)\n",
      "- Generating: /home/guillehg/osiris-run2/plot/PHA_x1_|charge|_bin_ene_species_2_0.mp4\n",
      "- Generating: /home/guillehg/osiris-run2/plot/PHA_x1_|charge|_bin_ene_species_2_13.mp4\n",
      "- Generating: /home/guillehg/osiris-run2/plot/PHA_x1_|charge|_bin_ene_species_2_25.mp4\n",
      "Generating file(s) for /home/guillehg/osiris-run2/MS/FLD/e2\n",
      "- Dimensions: (1, 1, 9)\n",
      "- Generating: /home/guillehg/osiris-run2/plot/FLD_e2.mp4\n",
      "Generating file(s) for /home/guillehg/osiris-run2/MS/FLD/e1\n",
      "- Dimensions: (1, 1, 9)\n",
      "- Generating: /home/guillehg/osiris-run2/plot/FLD_e1.mp4\n",
      "Generating file(s) for /home/guillehg/osiris-run2/MS/FLD/e3\n",
      "- Dimensions: (1, 1, 9)\n",
      "- Generating: /home/guillehg/osiris-run2/plot/FLD_e3.mp4\n",
      "Generating file(s) for /home/guillehg/osiris-run2/MS/DENSITY/species_1/ene\n",
      "- Dimensions: (1, 1, 43)\n",
      "- Generating: /home/guillehg/osiris-run2/plot/DENSITY_species_1_ene.mp4\n"
     ]
    }
   ],
   "source": [
    "# Automatic plots of everything in a simulation\n",
    "with plt.style.context(['ggplot']):\n",
    "    plot.auto_process(run_dir+\"2\", file_format=\"mp4\", verbose=True, kwargs_1d=dict(dpi=300))"
   ]
  },
  {
   "cell_type": "code",
   "execution_count": 9,
   "metadata": {
    "collapsed": false
   },
   "outputs": [],
   "source": [
    "# A different kind of plot, across datasets\n",
    "plot.time_dataset_animation(os.path.join(run_dir+\"2\", \"MS/PHA/x1_|charge|_bin_ene/species_2\"),\n",
    "                    output_path=os.path.join(run_dir+\"2\",\"plot\",\"test.mp4\") ,position=5)"
   ]
  },
  {
   "cell_type": "code",
   "execution_count": 10,
   "metadata": {
    "collapsed": false
   },
   "outputs": [
    {
     "name": "stderr",
     "output_type": "stream",
     "text": [
      "/usr/lib/python3.6/site-packages/matplotlib/figure.py:1742: UserWarning: This figure includes Axes that are not compatible with tight_layout, so its results might be incorrect.\n",
      "  warnings.warn(\"This figure includes Axes that are not \"\n"
     ]
    },
    {
     "data": {
      "image/png": "[encoded data removed]",
      "text/plain": [
       "<matplotlib.figure.Figure at 0x7fd4636eef98>"
      ]
     },
     "metadata": {},
     "output_type": "display_data"
    }
   ],
   "source": [
    "plot.time_1d_colormap(os.path.join(run_dir+\"2\", \"MS/PHA/x1_|charge|_bin_ene/species_2\"),dataset=5,cmap=\"rainbow\")"
   ]
  },
  {
   "cell_type": "code",
   "execution_count": 11,
   "metadata": {
    "collapsed": false
   },
   "outputs": [],
   "source": [
    "plot.time_1d_colormap(os.path.join(run_dir+\"2\", \"MS/FLD/e1\"),\n",
    "                      output_path=os.path.join(run_dir+\"2\",\"plot\",\"test.png\"),\n",
    "                      cmap=\"rainbow\")"
   ]
  },
  {
   "cell_type": "code",
   "execution_count": 12,
   "metadata": {
    "collapsed": true
   },
   "outputs": [],
   "source": [
    "# Some imports for quick and dirty debug\n",
    "from glob import glob\n",
    "import os\n",
    "import numpy as np\n",
    "import matplotlib.pyplot as plt\n",
    "import h5py\n",
    "import re"
   ]
  }
 ],
 "metadata": {
  "kernelspec": {
   "display_name": "Python 3",
   "language": "python",
   "name": "python3"
  },
  "language_info": {
   "codemirror_mode": {
    "name": "ipython",
    "version": 3
   },
   "file_extension": ".py",
   "mimetype": "text/x-python",
   "name": "python",
   "nbconvert_exporter": "python",
   "pygments_lexer": "ipython3",
   "version": "3.6.0"
  }
 },
 "nbformat": 4,
 "nbformat_minor": 0
}
